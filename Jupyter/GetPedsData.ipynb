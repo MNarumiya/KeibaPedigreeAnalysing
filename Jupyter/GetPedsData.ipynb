{
 "cells": [
  {
   "cell_type": "markdown",
   "id": "37fdf165",
   "metadata": {},
   "source": [
    "horse_idをinputして5代血統データをoutputするプログラム"
   ]
  },
  {
   "cell_type": "markdown",
   "id": "75660bce",
   "metadata": {},
   "source": [
    "# 準備\n",
    "## インポート"
   ]
  },
  {
   "cell_type": "code",
   "execution_count": 1,
   "id": "0ba6e9a8",
   "metadata": {},
   "outputs": [],
   "source": [
    "# スクレイピングに関するクラス\n",
    "import requests\n",
    "from bs4 import BeautifulSoup\n",
    "\n",
    "import urllib.parse\n",
    "\n",
    "# タイムバーに関するクラス\n",
    "from tqdm.notebook import tqdm\n",
    "\n",
    "# 時間制御に関するクラス\n",
    "import time\n",
    "\n",
    "# その他便利クラス\n",
    "import math\n",
    "import numpy as np\n",
    "import pandas as pd\n",
    "import os\n",
    "from io import StringIO\n",
    "import re"
   ]
  },
  {
   "cell_type": "markdown",
   "id": "181efc56",
   "metadata": {},
   "source": [
    "## 定数"
   ]
  },
  {
   "cell_type": "code",
   "execution_count": 2,
   "id": "213ff308",
   "metadata": {},
   "outputs": [],
   "source": [
    "# ヘッダーの設定に用いる定数\n",
    "HEADERS_DIC = {\n",
    "    \"User-Agent\": \"Mozilla/5.0 (Windows NT 10.0; Win64; x64) AppleWebKit/537.36 (KHTML, like Gecko) Chrome/78.0.3904.97 Safari/537.36\"\n",
    "}"
   ]
  },
  {
   "cell_type": "markdown",
   "id": "8e1fadee",
   "metadata": {},
   "source": [
    "## 便利関数"
   ]
  },
  {
   "cell_type": "code",
   "execution_count": 3,
   "id": "d45e4d3f",
   "metadata": {},
   "outputs": [],
   "source": [
    "class Tool:\n",
    "    @staticmethod\n",
    "    def arrangePed(ped_str):\n",
    "        \"\"\"\n",
    "        血統表に存在する文字から必要な文字のみを抽出する関数\n",
    "        例: Northern Dancer 1961 鹿毛 -> Northern Dancer\n",
    "        例: Kingman (英) 2011 鹿毛 [血統][産駒] Danzig系 -> Kingman\n",
    "        \"\"\"\n",
    "        def deleteExtraWord(ped_string):\n",
    "            # 前提 : 馬の名前にアラビア数字が入らないものとする\n",
    "            # アラビア数字が混在している場合、'馬名 誕生年 その他情報'という文字列と考える\n",
    "            if (type(ped_string) != type('str')):\n",
    "                return np.nan\n",
    "\n",
    "            # アラビア数字がない場合はそのまま返す\n",
    "            if not(bool(re.search(r'\\d', ped_string))):\n",
    "                return ped_string\n",
    "\n",
    "            organize_string  = re.split('[0-9]', ped_string)[0][:-1]\n",
    "            if ('(' in organize_string):\n",
    "                if (organize_string.split('(')[0][-1] == ' '):\n",
    "                    return organize_string.split('(')[0][:-1]\n",
    "                return organize_string.split('(')[0]\n",
    "            else:\n",
    "                return organize_string \n",
    "        \n",
    "        \"\"\"ex. 'マンファス Manfath'という文字列を'マンファス'と出力する\"\"\"\n",
    "        p = re.compile('[\\u30A1-\\u30FF]+')\n",
    "        arrange_ped_str = deleteExtraWord(ped_str)\n",
    "        if p.search(arrange_ped_str):\n",
    "            p2 = re.compile('[I\\u2160-\\u217F]+')\n",
    "            if (p2.search(arrange_ped_str)):\n",
    "                return re.compile('[I\\u30A1-\\u30FF\\u2160-\\u217F]+').findall(arrange_ped_str)[0]\n",
    "            return p.findall(arrange_ped_str)[0]\n",
    "        else:\n",
    "            return arrange_ped_str\n",
    "        \n",
    "    def delData(file_path, row_id_list):\n",
    "        df = pd.read_pickle(file_path)\n",
    "        df.drop(row_id_list).to_pickle(file_path)\n",
    "        print('delete data.')"
   ]
  },
  {
   "cell_type": "code",
   "execution_count": 4,
   "id": "86612a11",
   "metadata": {},
   "outputs": [
    {
     "data": {
      "text/plain": [
       "'Northern Dancer'"
      ]
     },
     "execution_count": 4,
     "metadata": {},
     "output_type": "execute_result"
    }
   ],
   "source": [
    "Tool.arrangePed('Northern Dancer 1961 鹿毛')"
   ]
  },
  {
   "cell_type": "code",
   "execution_count": 5,
   "id": "995143a5",
   "metadata": {},
   "outputs": [
    {
     "data": {
      "text/plain": [
       "'Kingman'"
      ]
     },
     "execution_count": 5,
     "metadata": {},
     "output_type": "execute_result"
    }
   ],
   "source": [
    "Tool.arrangePed('Kingman (英) 2011 鹿毛 [血統][産駒] Danzig系')"
   ]
  },
  {
   "cell_type": "code",
   "execution_count": 6,
   "id": "bfa4d99a",
   "metadata": {},
   "outputs": [
    {
     "data": {
      "text/plain": [
       "'Irish Lass'"
      ]
     },
     "execution_count": 6,
     "metadata": {},
     "output_type": "execute_result"
    }
   ],
   "source": [
    "Tool.arrangePed('Irish Lass')"
   ]
  },
  {
   "cell_type": "markdown",
   "id": "0497015d",
   "metadata": {},
   "source": [
    "# 血統表抽出"
   ]
  },
  {
   "cell_type": "code",
   "execution_count": 9,
   "id": "ae84835b",
   "metadata": {},
   "outputs": [],
   "source": [
    "#血統データを処理するクラス\n",
    "class Peds:\n",
    "    @staticmethod\n",
    "    def getData(horse_id_list, is_save=False, get_id = False):\n",
    "        \"\"\"\n",
    "        血統データをスクレイピングする関数\n",
    "\n",
    "        Parameters:\n",
    "        ----------\n",
    "        horse_id_list : list\n",
    "            馬IDのリスト\n",
    "\n",
    "        Returns:\n",
    "        ----------\n",
    "        peds_df : pandas.DataFrame\n",
    "            全血統データをまとめてDataFrame型にしたもの\n",
    "        \"\"\"\n",
    "        peds_dict = {}\n",
    "        session = requests.Session()\n",
    "        \n",
    "        for horse_id in tqdm(horse_id_list):\n",
    "            time.sleep(1)\n",
    "            try:\n",
    "                url = \"https://db.netkeiba.com/horse/ped/\" + horse_id\n",
    "                \n",
    "                # horse_idの馬名を取得\n",
    "                response = session.get(url, headers=HEADERS_DIC)\n",
    "                response.encoding = response.apparent_encoding\n",
    "                soup = BeautifulSoup(response.text, \"html.parser\")\n",
    "                \n",
    "                # 馬名取得\n",
    "                horse_name = soup.find(\"div\", attrs={\"id\": \"db_main_box\"}).find(\"h1\").get_text()\n",
    "                \n",
    "                # 5代血統表作成\n",
    "                df = pd.read_html(StringIO(response.text))[0]\n",
    "\n",
    "                #重複を削除して1列のSeries型データに直す\n",
    "                generations = {}\n",
    "                for i in reversed(range(5)):\n",
    "                    generations[i] = df[i]\n",
    "                    df.drop([i], axis=1, inplace=True)\n",
    "                    df = df.drop_duplicates()\n",
    "                \n",
    "                ped = pd.concat([pd.Series([horse_name])] + [generations[i] for i in range(5)]).rename(horse_id)\n",
    "                peds_dict[horse_id] = ped.reset_index(drop=True)\n",
    "\n",
    "            except IndexError:\n",
    "                continue\n",
    "            except Exception as e:\n",
    "                print(horse_id+':', e)\n",
    "                continue\n",
    "            except:\n",
    "                break\n",
    "                \n",
    "        # pd.DataFrame型にして一つのデータにまとめる\n",
    "        if (not(is_existing_old_df) and (peds_dict == {})):\n",
    "            return pd.DataFrame([])\n",
    "        if (peds_dict == {}):\n",
    "            return old_df.loc[exisiting_horse_id_list]\n",
    "        \n",
    "        # これ以降はlen(peds_dict) > 0\n",
    "        #列名をpeds_0, ..., peds_62にする\n",
    "        peds_df = pd.concat([peds_dict[key] for key in peds_dict], axis=1).T.add_prefix('peds_')\n",
    "        \n",
    "        # 血統表内の文字列を整形する\n",
    "        peds_df = pd.concat([peds_df['peds_0'], peds_df[['peds_'+str(i) for i in range(1, 62+1)]].map(Tool.arrangePed)], axis=1)\n",
    "        return peds_df\n",
    "        \n",
    "        if (is_save and (peds_dict != {})):\n",
    "            if (is_existing_old_df):\n",
    "                pd.concat([old_df, peds_df]).to_pickle(file_path) # 保存\n",
    "            else:\n",
    "                peds_df.to_pickle(file_path)\n",
    "            print('save in', file_path)\n",
    "        \n",
    "        if (not(is_existing_old_df)):\n",
    "            return peds_df\n",
    "        else:\n",
    "            return pd.concat([old_df.loc[exisiting_horse_id_list], peds_df])\n",
    "    \n",
    "    def getId(horse_id_list, is_save=False):\n",
    "        \"\"\"\n",
    "        血統データをスクレイピングする関数\n",
    "\n",
    "        Parameters:\n",
    "        ----------\n",
    "        horse_id_list : list\n",
    "            馬IDのリスト\n",
    "\n",
    "        Returns:\n",
    "        ----------\n",
    "        peds_df : pandas.DataFrame\n",
    "            全血統データをまとめてDataFrame型にしたもの\n",
    "        \"\"\"\n",
    "        peds_id_dict = {}\n",
    "        \n",
    "        for horse_id in tqdm(horse_id_list):\n",
    "            time.sleep(1)\n",
    "            try:\n",
    "                url = \"https://db.netkeiba.com/horse/ped/\" + horse_id\n",
    "                \n",
    "                ped_horse_id_list = [0]*63 # 空リストを用意\n",
    "                ped_horse_id_list[0] = horse_id # 1つ目の要素としてhorse_idを格納\n",
    "                \n",
    "                # ped horse idを並び替える\n",
    "                label = 1 # ped_horse_idを格納する場所のラベル\n",
    "                is_house_serial_number = False # 連番ラベルに格納したか\n",
    "                \n",
    "                html = requests.get(url, headers=HEADERS_DIC)\n",
    "                html.encoding = \"EUC-JP\"\n",
    "                soup = BeautifulSoup(html.text, \"html.parser\")\n",
    "                horse_a_list = soup.find(\"table\", attrs={\"class\": \"blood_table\"}).find_all(\n",
    "                    \"a\", attrs={\"href\": re.compile(\"^/horse/\\d+\")}\n",
    "                )\n",
    "                for a in horse_a_list:\n",
    "                    ped_horse_id = a[\"href\"].split('/')[-2]\n",
    "                    ped_horse_id_list[label] = ped_horse_id\n",
    "                    \n",
    "                    if (is_house_serial_number):\n",
    "                        is_house_serial_number = False\n",
    "                        if (label % 4 == 0):\n",
    "                            label = int(label / 2)\n",
    "                            continue\n",
    "                        if (label % 8 == 2):\n",
    "                            label = int((label-2) / 4)\n",
    "                            continue\n",
    "                        if (label % 16 == 6):\n",
    "                            label = int((label-6) / 8)\n",
    "                            continue\n",
    "                        label = int((label-14) / 16)\n",
    "                        continue\n",
    "                        \n",
    "                    if (label*2 < 61):\n",
    "                        label = label * 2 + 1\n",
    "                        is_house_serial_number = False\n",
    "                        continue\n",
    "                    else:\n",
    "                        label = label + 1\n",
    "                        is_house_serial_number = True\n",
    "                \n",
    "                peds_id_dict[horse_id] = pd.DataFrame(ped_horse_id_list)\n",
    "               \n",
    "            except IndexError:\n",
    "                print(horse_id+':', e)\n",
    "                continue\n",
    "            except Exception as e:\n",
    "                print(horse_id+':', e)\n",
    "                continue\n",
    "            except:\n",
    "                break\n",
    "        \n",
    "        # これ以降はlen(peds_dict) > 0\n",
    "        #列名をpeds_0, ..., peds_62にする\n",
    "        peds_id_df = pd.concat([peds_id_dict[key] for key in peds_id_dict], axis=1).T.add_prefix('peds_')\n",
    "        return peds_df\n",
    "    \n",
    "    def scrape(horse_id_list, is_save=False):\n",
    "        return Peds.getData(horse_id_list, is_save, get_id=True)"
   ]
  },
  {
   "cell_type": "code",
   "execution_count": 10,
   "id": "6ffb0d10",
   "metadata": {},
   "outputs": [
    {
     "data": {
      "application/vnd.jupyter.widget-view+json": {
       "model_id": "6b8b52c3313848fe939ad278e9b13c58",
       "version_major": 2,
       "version_minor": 0
      },
      "text/plain": [
       "  0%|          | 0/1 [00:00<?, ?it/s]"
      ]
     },
     "metadata": {},
     "output_type": "display_data"
    },
    {
     "ename": "NameError",
     "evalue": "name 'is_existing_old_df' is not defined",
     "output_type": "error",
     "traceback": [
      "\u001b[1;31m---------------------------------------------------------------------------\u001b[0m",
      "\u001b[1;31mNameError\u001b[0m                                 Traceback (most recent call last)",
      "Cell \u001b[1;32mIn[10], line 1\u001b[0m\n\u001b[1;32m----> 1\u001b[0m Peds\u001b[38;5;241m.\u001b[39mscrape([\u001b[38;5;124m'\u001b[39m\u001b[38;5;124m2018103559\u001b[39m\u001b[38;5;124m'\u001b[39m])\n",
      "Cell \u001b[1;32mIn[9], line 156\u001b[0m, in \u001b[0;36mPeds.scrape\u001b[1;34m(horse_id_list, is_save)\u001b[0m\n\u001b[0;32m    155\u001b[0m \u001b[38;5;28;01mdef\u001b[39;00m \u001b[38;5;21mscrape\u001b[39m(horse_id_list, is_save\u001b[38;5;241m=\u001b[39m\u001b[38;5;28;01mFalse\u001b[39;00m):\n\u001b[1;32m--> 156\u001b[0m     \u001b[38;5;28;01mreturn\u001b[39;00m Peds\u001b[38;5;241m.\u001b[39mgetData(horse_id_list, is_save, get_id\u001b[38;5;241m=\u001b[39m\u001b[38;5;28;01mTrue\u001b[39;00m)\n",
      "Cell \u001b[1;32mIn[9], line 56\u001b[0m, in \u001b[0;36mPeds.getData\u001b[1;34m(horse_id_list, is_save, get_id)\u001b[0m\n\u001b[0;32m     53\u001b[0m         \u001b[38;5;28;01mbreak\u001b[39;00m\n\u001b[0;32m     55\u001b[0m \u001b[38;5;66;03m# pd.DataFrame型にして一つのデータにまとめる\u001b[39;00m\n\u001b[1;32m---> 56\u001b[0m \u001b[38;5;28;01mif\u001b[39;00m (\u001b[38;5;129;01mnot\u001b[39;00m(is_existing_old_df) \u001b[38;5;129;01mand\u001b[39;00m (peds_dict \u001b[38;5;241m==\u001b[39m {})):\n\u001b[0;32m     57\u001b[0m     \u001b[38;5;28;01mreturn\u001b[39;00m pd\u001b[38;5;241m.\u001b[39mDataFrame([])\n\u001b[0;32m     58\u001b[0m \u001b[38;5;28;01mif\u001b[39;00m (peds_dict \u001b[38;5;241m==\u001b[39m {}):\n",
      "\u001b[1;31mNameError\u001b[0m: name 'is_existing_old_df' is not defined"
     ]
    }
   ],
   "source": [
    "Peds.scrape(['2018103559'])"
   ]
  },
  {
   "cell_type": "code",
   "execution_count": null,
   "id": "d856e8f4",
   "metadata": {},
   "outputs": [],
   "source": []
  }
 ],
 "metadata": {
  "kernelspec": {
   "display_name": "Python 3 (ipykernel)",
   "language": "python",
   "name": "python3"
  },
  "language_info": {
   "codemirror_mode": {
    "name": "ipython",
    "version": 3
   },
   "file_extension": ".py",
   "mimetype": "text/x-python",
   "name": "python",
   "nbconvert_exporter": "python",
   "pygments_lexer": "ipython3",
   "version": "3.11.7"
  }
 },
 "nbformat": 4,
 "nbformat_minor": 5
}
