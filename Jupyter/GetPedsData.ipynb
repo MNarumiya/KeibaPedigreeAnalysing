{
 "cells": [
  {
   "cell_type": "markdown",
   "id": "816e173b",
   "metadata": {},
   "source": [
    "horse_idをinputして5代血統データをoutputするプログラム"
   ]
  },
  {
   "cell_type": "markdown",
   "id": "6d70ce3c",
   "metadata": {},
   "source": [
    "# 準備\n",
    "## インポート"
   ]
  },
  {
   "cell_type": "code",
   "execution_count": 1,
   "id": "f2161378",
   "metadata": {},
   "outputs": [],
   "source": [
    "# スクレイピングに関するクラス\n",
    "import requests\n",
    "from bs4 import BeautifulSoup\n",
    "\n",
    "import urllib.parse\n",
    "\n",
    "# タイムバーに関するクラス\n",
    "from tqdm.notebook import tqdm\n",
    "\n",
    "# 時間制御に関するクラス\n",
    "import time\n",
    "\n",
    "# その他便利クラス\n",
    "import math\n",
    "import numpy as np\n",
    "import pandas as pd\n",
    "import os\n",
    "from io import StringIO\n",
    "import re"
   ]
  },
  {
   "cell_type": "markdown",
   "id": "79a0df2b",
   "metadata": {},
   "source": [
    "## 定数"
   ]
  },
  {
   "cell_type": "code",
   "execution_count": 2,
   "id": "02df569c",
   "metadata": {},
   "outputs": [],
   "source": [
    "# ヘッダーの設定に用いる定数\n",
    "HEADERS_DIC = {\n",
    "    \"User-Agent\": \"Mozilla/5.0 (Windows NT 10.0; Win64; x64) AppleWebKit/537.36 (KHTML, like Gecko) Chrome/78.0.3904.97 Safari/537.36\"\n",
    "}"
   ]
  },
  {
   "cell_type": "markdown",
   "id": "a3b0ae2c",
   "metadata": {},
   "source": [
    "## 便利関数"
   ]
  },
  {
   "cell_type": "code",
   "execution_count": 3,
   "id": "e84356b1",
   "metadata": {},
   "outputs": [],
   "source": [
    "class Tool:\n",
    "    @staticmethod\n",
    "    def arrangePed(ped_str):\n",
    "        \"\"\"\n",
    "        血統表に存在する文字から必要な文字のみを抽出する関数\n",
    "        例: Northern Dancer 1961 鹿毛 -> Northern Dancer\n",
    "        例: Kingman (英) 2011 鹿毛 [血統][産駒] Danzig系 -> Kingman\n",
    "        \"\"\"\n",
    "        def deleteExtraWord(ped_string):\n",
    "            # 前提 : 馬の名前にアラビア数字が入らないものとする\n",
    "            # アラビア数字が混在している場合、'馬名 誕生年 その他情報'という文字列と考える\n",
    "            if (type(ped_string) != type('str')):\n",
    "                return np.nan\n",
    "\n",
    "            # アラビア数字がない場合はそのまま返す\n",
    "            if not(bool(re.search(r'\\d', ped_string))):\n",
    "                return ped_string\n",
    "\n",
    "            organize_string  = re.split('[0-9]', ped_string)[0][:-1]\n",
    "            if ('(' in organize_string):\n",
    "                if (organize_string.split('(')[0][-1] == ' '):\n",
    "                    return organize_string.split('(')[0][:-1]\n",
    "                return organize_string.split('(')[0]\n",
    "            else:\n",
    "                return organize_string \n",
    "        \n",
    "        \"\"\"ex. 'マンファス Manfath'という文字列を'マンファス'と出力する\"\"\"\n",
    "        p = re.compile('[\\u30A1-\\u30FF]+')\n",
    "        arrange_ped_str = deleteExtraWord(ped_str)\n",
    "        if p.search(arrange_ped_str):\n",
    "            p2 = re.compile('[I\\u2160-\\u217F]+')\n",
    "            if (p2.search(arrange_ped_str)):\n",
    "                return re.compile('[I\\u30A1-\\u30FF\\u2160-\\u217F]+').findall(arrange_ped_str)[0]\n",
    "            return p.findall(arrange_ped_str)[0]\n",
    "        else:\n",
    "            return arrange_ped_str\n",
    "        \n",
    "    def delData(file_path, row_id_list):\n",
    "        df = pd.read_pickle(file_path)\n",
    "        df.drop(row_id_list).to_pickle(file_path)\n",
    "        print('delete data.')"
   ]
  },
  {
   "cell_type": "code",
   "execution_count": 4,
   "id": "cfef713f",
   "metadata": {},
   "outputs": [
    {
     "data": {
      "text/plain": [
       "'Northern Dancer'"
      ]
     },
     "execution_count": 4,
     "metadata": {},
     "output_type": "execute_result"
    }
   ],
   "source": [
    "Tool.arrangePed('Northern Dancer 1961 鹿毛')"
   ]
  },
  {
   "cell_type": "code",
   "execution_count": 5,
   "id": "afb2957b",
   "metadata": {},
   "outputs": [
    {
     "data": {
      "text/plain": [
       "'Kingman'"
      ]
     },
     "execution_count": 5,
     "metadata": {},
     "output_type": "execute_result"
    }
   ],
   "source": [
    "Tool.arrangePed('Kingman (英) 2011 鹿毛 [血統][産駒] Danzig系')"
   ]
  },
  {
   "cell_type": "code",
   "execution_count": 6,
   "id": "a7376c2c",
   "metadata": {},
   "outputs": [
    {
     "data": {
      "text/plain": [
       "'Irish Lass'"
      ]
     },
     "execution_count": 6,
     "metadata": {},
     "output_type": "execute_result"
    }
   ],
   "source": [
    "Tool.arrangePed('Irish Lass')"
   ]
  },
  {
   "cell_type": "markdown",
   "id": "b46159f2",
   "metadata": {},
   "source": [
    "# 血統表抽出"
   ]
  },
  {
   "cell_type": "code",
   "execution_count": 13,
   "id": "c151ce5e",
   "metadata": {},
   "outputs": [],
   "source": [
    "#血統データを処理するクラス\n",
    "class Peds:\n",
    "    @staticmethod\n",
    "    def getData(horse_id_list, is_save=False, get_id = False):\n",
    "        \"\"\"\n",
    "        血統データをスクレイピングする関数\n",
    "\n",
    "        Parameters:\n",
    "        ----------\n",
    "        horse_id_list : list\n",
    "            馬IDのリスト\n",
    "\n",
    "        Returns:\n",
    "        ----------\n",
    "        peds_df : pandas.DataFrame\n",
    "            全血統データをまとめてDataFrame型にしたもの\n",
    "        \"\"\"\n",
    "        peds_dict = {}\n",
    "        session = requests.Session()\n",
    "        \n",
    "        for horse_id in tqdm(horse_id_list):\n",
    "            time.sleep(1)\n",
    "            try:\n",
    "                url = \"https://db.netkeiba.com/horse/ped/\" + horse_id\n",
    "                \n",
    "                # horse_idの馬名を取得\n",
    "                response = session.get(url, headers=HEADERS_DIC)\n",
    "                response.encoding = response.apparent_encoding\n",
    "                soup = BeautifulSoup(response.text, \"html.parser\")\n",
    "                \n",
    "                # 馬名取得\n",
    "                horse_name = soup.find(\"div\", attrs={\"id\": \"db_main_box\"}).find(\"h1\").get_text()\n",
    "                \n",
    "                # 5代血統表作成\n",
    "                df = pd.read_html(StringIO(response.text))[0]\n",
    "\n",
    "                #重複を削除して1列のSeries型データに直す\n",
    "                generations = {}\n",
    "                for i in reversed(range(5)):\n",
    "                    generations[i] = df[i]\n",
    "                    df.drop([i], axis=1, inplace=True)\n",
    "                    df = df.drop_duplicates()\n",
    "                \n",
    "                ped = pd.concat([pd.Series([horse_name])] + [generations[i] for i in range(5)]).rename(horse_id)\n",
    "                peds_dict[horse_id] = ped.reset_index(drop=True)\n",
    "\n",
    "            except IndexError:\n",
    "                continue\n",
    "            except Exception as e:\n",
    "                print(horse_id+':', e)\n",
    "                continue\n",
    "            except:\n",
    "                break\n",
    "                \n",
    "        \n",
    "        # これ以降はlen(peds_dict) > 0\n",
    "        #列名をpeds_0, ..., peds_62にする\n",
    "        peds_df = pd.concat([peds_dict[key] for key in peds_dict], axis=1).T.add_prefix('peds_')\n",
    "        \n",
    "        # 血統表内の文字列を整形する\n",
    "        peds_df = pd.concat([peds_df['peds_0'], peds_df[['peds_'+str(i) for i in range(1, 62+1)]].map(Tool.arrangePed)], axis=1)\n",
    "        return peds_df\n",
    "    \n",
    "    def getId(horse_id_list, is_save=False):\n",
    "        \"\"\"\n",
    "        血統データをスクレイピングする関数\n",
    "\n",
    "        Parameters:\n",
    "        ----------\n",
    "        horse_id_list : list\n",
    "            馬IDのリスト\n",
    "\n",
    "        Returns:\n",
    "        ----------\n",
    "        peds_df : pandas.DataFrame\n",
    "            全血統データをまとめてDataFrame型にしたもの\n",
    "        \"\"\"\n",
    "        peds_id_dict = {}\n",
    "        \n",
    "        for horse_id in tqdm(horse_id_list):\n",
    "            time.sleep(1)\n",
    "            try:\n",
    "                url = \"https://db.netkeiba.com/horse/ped/\" + horse_id\n",
    "                \n",
    "                ped_horse_id_list = [0]*63 # 空リストを用意\n",
    "                ped_horse_id_list[0] = horse_id # 1つ目の要素としてhorse_idを格納\n",
    "                \n",
    "                # ped horse idを並び替える\n",
    "                label = 1 # ped_horse_idを格納する場所のラベル\n",
    "                is_house_serial_number = False # 連番ラベルに格納したか\n",
    "                \n",
    "                html = requests.get(url, headers=HEADERS_DIC)\n",
    "                html.encoding = \"EUC-JP\"\n",
    "                soup = BeautifulSoup(html.text, \"html.parser\")\n",
    "                horse_a_list = soup.find(\"table\", attrs={\"class\": \"blood_table\"}).find_all(\n",
    "                    \"a\", attrs={\"href\": re.compile(\"^/horse/\\d+\")}\n",
    "                )\n",
    "                for a in horse_a_list:\n",
    "                    ped_horse_id = a[\"href\"].split('/')[-2]\n",
    "                    ped_horse_id_list[label] = ped_horse_id\n",
    "                    \n",
    "                    if (is_house_serial_number):\n",
    "                        is_house_serial_number = False\n",
    "                        if (label % 4 == 0):\n",
    "                            label = int(label / 2)\n",
    "                            continue\n",
    "                        if (label % 8 == 2):\n",
    "                            label = int((label-2) / 4)\n",
    "                            continue\n",
    "                        if (label % 16 == 6):\n",
    "                            label = int((label-6) / 8)\n",
    "                            continue\n",
    "                        label = int((label-14) / 16)\n",
    "                        continue\n",
    "                        \n",
    "                    if (label*2 < 61):\n",
    "                        label = label * 2 + 1\n",
    "                        is_house_serial_number = False\n",
    "                        continue\n",
    "                    else:\n",
    "                        label = label + 1\n",
    "                        is_house_serial_number = True\n",
    "                \n",
    "                peds_id_dict[horse_id] = pd.DataFrame(ped_horse_id_list)\n",
    "               \n",
    "            except IndexError:\n",
    "                print(horse_id+':', e)\n",
    "                continue\n",
    "            except Exception as e:\n",
    "                print(horse_id+':', e)\n",
    "                continue\n",
    "            except:\n",
    "                break\n",
    "        \n",
    "        # これ以降はlen(peds_dict) > 0\n",
    "        #列名をpeds_0, ..., peds_62にする\n",
    "        peds_id_df = pd.concat([peds_id_dict[key] for key in peds_id_dict], axis=1).T.add_prefix('peds_')\n",
    "        return peds_id_df\n",
    "    \n",
    "    def scrape(horse_id_list, is_save=False):\n",
    "        return Peds.getData(horse_id_list, is_save, get_id=True)"
   ]
  },
  {
   "cell_type": "code",
   "execution_count": 14,
   "id": "2e2da2ed",
   "metadata": {},
   "outputs": [
    {
     "data": {
      "application/vnd.jupyter.widget-view+json": {
       "model_id": "13241cb03a2b4229a96daf6add85c27d",
       "version_major": 2,
       "version_minor": 0
      },
      "text/plain": [
       "  0%|          | 0/1 [00:00<?, ?it/s]"
      ]
     },
     "metadata": {},
     "output_type": "display_data"
    },
    {
     "data": {
      "text/html": [
       "<div>\n",
       "<style scoped>\n",
       "    .dataframe tbody tr th:only-of-type {\n",
       "        vertical-align: middle;\n",
       "    }\n",
       "\n",
       "    .dataframe tbody tr th {\n",
       "        vertical-align: top;\n",
       "    }\n",
       "\n",
       "    .dataframe thead th {\n",
       "        text-align: right;\n",
       "    }\n",
       "</style>\n",
       "<table border=\"1\" class=\"dataframe\">\n",
       "  <thead>\n",
       "    <tr style=\"text-align: right;\">\n",
       "      <th></th>\n",
       "      <th>peds_0</th>\n",
       "      <th>peds_1</th>\n",
       "      <th>peds_2</th>\n",
       "      <th>peds_3</th>\n",
       "      <th>peds_4</th>\n",
       "      <th>peds_5</th>\n",
       "      <th>peds_6</th>\n",
       "      <th>peds_7</th>\n",
       "      <th>peds_8</th>\n",
       "      <th>peds_9</th>\n",
       "      <th>...</th>\n",
       "      <th>peds_53</th>\n",
       "      <th>peds_54</th>\n",
       "      <th>peds_55</th>\n",
       "      <th>peds_56</th>\n",
       "      <th>peds_57</th>\n",
       "      <th>peds_58</th>\n",
       "      <th>peds_59</th>\n",
       "      <th>peds_60</th>\n",
       "      <th>peds_61</th>\n",
       "      <th>peds_62</th>\n",
       "    </tr>\n",
       "  </thead>\n",
       "  <tbody>\n",
       "    <tr>\n",
       "      <th>2018103559</th>\n",
       "      <td>タイトルホルダー</td>\n",
       "      <td>ドゥラメンテ</td>\n",
       "      <td>メーヴェ</td>\n",
       "      <td>キングカメハメハ</td>\n",
       "      <td>アドマイヤグルーヴ</td>\n",
       "      <td>Motivator</td>\n",
       "      <td>Top Table</td>\n",
       "      <td>Kingmambo</td>\n",
       "      <td>マンファス</td>\n",
       "      <td>サンデーサイレンス</td>\n",
       "      <td>...</td>\n",
       "      <td>Sharpen Up</td>\n",
       "      <td>Uncommitted</td>\n",
       "      <td>Never Bend</td>\n",
       "      <td>Milan Mill</td>\n",
       "      <td>ハーディカヌート</td>\n",
       "      <td>Grand Cross</td>\n",
       "      <td>Northern Dancer</td>\n",
       "      <td>What a Treat</td>\n",
       "      <td>Lorenzaccio</td>\n",
       "      <td>Courtessa</td>\n",
       "    </tr>\n",
       "  </tbody>\n",
       "</table>\n",
       "<p>1 rows × 63 columns</p>\n",
       "</div>"
      ],
      "text/plain": [
       "              peds_0  peds_1 peds_2    peds_3     peds_4      peds_5  \\\n",
       "2018103559  タイトルホルダー  ドゥラメンテ   メーヴェ  キングカメハメハ  アドマイヤグルーヴ  Motivator    \n",
       "\n",
       "                peds_6      peds_7 peds_8     peds_9  ...     peds_53  \\\n",
       "2018103559  Top Table   Kingmambo   マンファス  サンデーサイレンス  ...  Sharpen Up   \n",
       "\n",
       "                peds_54     peds_55     peds_56   peds_57      peds_58  \\\n",
       "2018103559  Uncommitted  Never Bend  Milan Mill  ハーディカヌート  Grand Cross   \n",
       "\n",
       "                    peds_59       peds_60      peds_61    peds_62  \n",
       "2018103559  Northern Dancer  What a Treat  Lorenzaccio  Courtessa  \n",
       "\n",
       "[1 rows x 63 columns]"
      ]
     },
     "execution_count": 14,
     "metadata": {},
     "output_type": "execute_result"
    }
   ],
   "source": [
    "Peds.scrape(['2018103559'])"
   ]
  },
  {
   "cell_type": "code",
   "execution_count": null,
   "id": "52bc0e42",
   "metadata": {},
   "outputs": [],
   "source": []
  }
 ],
 "metadata": {
  "kernelspec": {
   "display_name": "Python 3 (ipykernel)",
   "language": "python",
   "name": "python3"
  },
  "language_info": {
   "codemirror_mode": {
    "name": "ipython",
    "version": 3
   },
   "file_extension": ".py",
   "mimetype": "text/x-python",
   "name": "python",
   "nbconvert_exporter": "python",
   "pygments_lexer": "ipython3",
   "version": "3.11.7"
  }
 },
 "nbformat": 4,
 "nbformat_minor": 5
}
